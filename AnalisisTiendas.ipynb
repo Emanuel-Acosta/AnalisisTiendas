{
  "nbformat": 4,
  "nbformat_minor": 0,
  "metadata": {
    "colab": {
      "provenance": [],
      "include_colab_link": true
    },
    "kernelspec": {
      "name": "python3",
      "display_name": "Python 3"
    },
    "language_info": {
      "name": "python"
    }
  },
  "cells": [
    {
      "cell_type": "markdown",
      "metadata": {
        "id": "view-in-github",
        "colab_type": "text"
      },
      "source": [
        "<a href=\"https://colab.research.google.com/github/Emanuel-Acosta/AnalisisTiendas/blob/main/AnalisisTiendas.ipynb\" target=\"_parent\"><img src=\"https://colab.research.google.com/assets/colab-badge.svg\" alt=\"Open In Colab\"/></a>"
      ]
    },
    {
      "cell_type": "markdown",
      "source": [
        "### Importación de datos\n",
        "\n"
      ],
      "metadata": {
        "id": "RhEdWd9YUR6H"
      }
    },
    {
      "cell_type": "markdown",
      "source": [
        "En esta sección, se cargan los datos de ventas de las 4 tiendas de Alura Store desde archivos CSV almacenados en un repositorio de GitHub. Utilizamos la librería pandas para leer y cargar los datos de cada tienda en un DataFrame, lo que nos permitirá analizarlos y visualizarlos de manera eficiente."
      ],
      "metadata": {
        "id": "jH5j9_-_oUra"
      }
    },
    {
      "cell_type": "code",
      "execution_count": 35,
      "metadata": {
        "colab": {
          "base_uri": "https://localhost:8080/",
          "height": 206
        },
        "id": "T3EvaeQ_INIL",
        "outputId": "ef5ff693-9e80-41a9-fd78-4e722de9275d"
      },
      "outputs": [
        {
          "output_type": "execute_result",
          "data": {
            "text/plain": [
              "            Producto Categoría del Producto    Precio  Costo de envío  \\\n",
              "0  Asistente virtual           Electrónicos  164300.0          6900.0   \n",
              "1    Mesa de comedor                Muebles  192300.0          8400.0   \n",
              "2      Juego de mesa               Juguetes  209600.0         15900.0   \n",
              "3         Microondas      Electrodomésticos  757500.0         41000.0   \n",
              "4   Silla de oficina                Muebles  335200.0         20200.0   \n",
              "\n",
              "  Fecha de Compra         Vendedor Lugar de Compra  Calificación  \\\n",
              "0      16/01/2021      Pedro Gomez          Bogotá             4   \n",
              "1      18/05/2022  Beatriz Morales        Medellín             1   \n",
              "2      15/03/2021   Juan Fernandez       Cartagena             1   \n",
              "3      03/05/2022   Juan Fernandez            Cali             4   \n",
              "4      07/11/2020    Maria Alfonso        Medellín             5   \n",
              "\n",
              "       Método de pago  Cantidad de cuotas       lat       lon  \n",
              "0  Tarjeta de crédito                   8   4.60971 -74.08175  \n",
              "1  Tarjeta de crédito                   4   6.25184 -75.56359  \n",
              "2  Tarjeta de crédito                   1  10.39972 -75.51444  \n",
              "3               Nequi                   1   3.43722 -76.52250  \n",
              "4               Nequi                   1   6.25184 -75.56359  "
            ],
            "text/html": [
              "\n",
              "  <div id=\"df-f8a489c3-2d26-4659-b4e5-220d1350bcff\" class=\"colab-df-container\">\n",
              "    <div>\n",
              "<style scoped>\n",
              "    .dataframe tbody tr th:only-of-type {\n",
              "        vertical-align: middle;\n",
              "    }\n",
              "\n",
              "    .dataframe tbody tr th {\n",
              "        vertical-align: top;\n",
              "    }\n",
              "\n",
              "    .dataframe thead th {\n",
              "        text-align: right;\n",
              "    }\n",
              "</style>\n",
              "<table border=\"1\" class=\"dataframe\">\n",
              "  <thead>\n",
              "    <tr style=\"text-align: right;\">\n",
              "      <th></th>\n",
              "      <th>Producto</th>\n",
              "      <th>Categoría del Producto</th>\n",
              "      <th>Precio</th>\n",
              "      <th>Costo de envío</th>\n",
              "      <th>Fecha de Compra</th>\n",
              "      <th>Vendedor</th>\n",
              "      <th>Lugar de Compra</th>\n",
              "      <th>Calificación</th>\n",
              "      <th>Método de pago</th>\n",
              "      <th>Cantidad de cuotas</th>\n",
              "      <th>lat</th>\n",
              "      <th>lon</th>\n",
              "    </tr>\n",
              "  </thead>\n",
              "  <tbody>\n",
              "    <tr>\n",
              "      <th>0</th>\n",
              "      <td>Asistente virtual</td>\n",
              "      <td>Electrónicos</td>\n",
              "      <td>164300.0</td>\n",
              "      <td>6900.0</td>\n",
              "      <td>16/01/2021</td>\n",
              "      <td>Pedro Gomez</td>\n",
              "      <td>Bogotá</td>\n",
              "      <td>4</td>\n",
              "      <td>Tarjeta de crédito</td>\n",
              "      <td>8</td>\n",
              "      <td>4.60971</td>\n",
              "      <td>-74.08175</td>\n",
              "    </tr>\n",
              "    <tr>\n",
              "      <th>1</th>\n",
              "      <td>Mesa de comedor</td>\n",
              "      <td>Muebles</td>\n",
              "      <td>192300.0</td>\n",
              "      <td>8400.0</td>\n",
              "      <td>18/05/2022</td>\n",
              "      <td>Beatriz Morales</td>\n",
              "      <td>Medellín</td>\n",
              "      <td>1</td>\n",
              "      <td>Tarjeta de crédito</td>\n",
              "      <td>4</td>\n",
              "      <td>6.25184</td>\n",
              "      <td>-75.56359</td>\n",
              "    </tr>\n",
              "    <tr>\n",
              "      <th>2</th>\n",
              "      <td>Juego de mesa</td>\n",
              "      <td>Juguetes</td>\n",
              "      <td>209600.0</td>\n",
              "      <td>15900.0</td>\n",
              "      <td>15/03/2021</td>\n",
              "      <td>Juan Fernandez</td>\n",
              "      <td>Cartagena</td>\n",
              "      <td>1</td>\n",
              "      <td>Tarjeta de crédito</td>\n",
              "      <td>1</td>\n",
              "      <td>10.39972</td>\n",
              "      <td>-75.51444</td>\n",
              "    </tr>\n",
              "    <tr>\n",
              "      <th>3</th>\n",
              "      <td>Microondas</td>\n",
              "      <td>Electrodomésticos</td>\n",
              "      <td>757500.0</td>\n",
              "      <td>41000.0</td>\n",
              "      <td>03/05/2022</td>\n",
              "      <td>Juan Fernandez</td>\n",
              "      <td>Cali</td>\n",
              "      <td>4</td>\n",
              "      <td>Nequi</td>\n",
              "      <td>1</td>\n",
              "      <td>3.43722</td>\n",
              "      <td>-76.52250</td>\n",
              "    </tr>\n",
              "    <tr>\n",
              "      <th>4</th>\n",
              "      <td>Silla de oficina</td>\n",
              "      <td>Muebles</td>\n",
              "      <td>335200.0</td>\n",
              "      <td>20200.0</td>\n",
              "      <td>07/11/2020</td>\n",
              "      <td>Maria Alfonso</td>\n",
              "      <td>Medellín</td>\n",
              "      <td>5</td>\n",
              "      <td>Nequi</td>\n",
              "      <td>1</td>\n",
              "      <td>6.25184</td>\n",
              "      <td>-75.56359</td>\n",
              "    </tr>\n",
              "  </tbody>\n",
              "</table>\n",
              "</div>\n",
              "    <div class=\"colab-df-buttons\">\n",
              "\n",
              "  <div class=\"colab-df-container\">\n",
              "    <button class=\"colab-df-convert\" onclick=\"convertToInteractive('df-f8a489c3-2d26-4659-b4e5-220d1350bcff')\"\n",
              "            title=\"Convert this dataframe to an interactive table.\"\n",
              "            style=\"display:none;\">\n",
              "\n",
              "  <svg xmlns=\"http://www.w3.org/2000/svg\" height=\"24px\" viewBox=\"0 -960 960 960\">\n",
              "    <path d=\"M120-120v-720h720v720H120Zm60-500h600v-160H180v160Zm220 220h160v-160H400v160Zm0 220h160v-160H400v160ZM180-400h160v-160H180v160Zm440 0h160v-160H620v160ZM180-180h160v-160H180v160Zm440 0h160v-160H620v160Z\"/>\n",
              "  </svg>\n",
              "    </button>\n",
              "\n",
              "  <style>\n",
              "    .colab-df-container {\n",
              "      display:flex;\n",
              "      gap: 12px;\n",
              "    }\n",
              "\n",
              "    .colab-df-convert {\n",
              "      background-color: #E8F0FE;\n",
              "      border: none;\n",
              "      border-radius: 50%;\n",
              "      cursor: pointer;\n",
              "      display: none;\n",
              "      fill: #1967D2;\n",
              "      height: 32px;\n",
              "      padding: 0 0 0 0;\n",
              "      width: 32px;\n",
              "    }\n",
              "\n",
              "    .colab-df-convert:hover {\n",
              "      background-color: #E2EBFA;\n",
              "      box-shadow: 0px 1px 2px rgba(60, 64, 67, 0.3), 0px 1px 3px 1px rgba(60, 64, 67, 0.15);\n",
              "      fill: #174EA6;\n",
              "    }\n",
              "\n",
              "    .colab-df-buttons div {\n",
              "      margin-bottom: 4px;\n",
              "    }\n",
              "\n",
              "    [theme=dark] .colab-df-convert {\n",
              "      background-color: #3B4455;\n",
              "      fill: #D2E3FC;\n",
              "    }\n",
              "\n",
              "    [theme=dark] .colab-df-convert:hover {\n",
              "      background-color: #434B5C;\n",
              "      box-shadow: 0px 1px 3px 1px rgba(0, 0, 0, 0.15);\n",
              "      filter: drop-shadow(0px 1px 2px rgba(0, 0, 0, 0.3));\n",
              "      fill: #FFFFFF;\n",
              "    }\n",
              "  </style>\n",
              "\n",
              "    <script>\n",
              "      const buttonEl =\n",
              "        document.querySelector('#df-f8a489c3-2d26-4659-b4e5-220d1350bcff button.colab-df-convert');\n",
              "      buttonEl.style.display =\n",
              "        google.colab.kernel.accessAllowed ? 'block' : 'none';\n",
              "\n",
              "      async function convertToInteractive(key) {\n",
              "        const element = document.querySelector('#df-f8a489c3-2d26-4659-b4e5-220d1350bcff');\n",
              "        const dataTable =\n",
              "          await google.colab.kernel.invokeFunction('convertToInteractive',\n",
              "                                                    [key], {});\n",
              "        if (!dataTable) return;\n",
              "\n",
              "        const docLinkHtml = 'Like what you see? Visit the ' +\n",
              "          '<a target=\"_blank\" href=https://colab.research.google.com/notebooks/data_table.ipynb>data table notebook</a>'\n",
              "          + ' to learn more about interactive tables.';\n",
              "        element.innerHTML = '';\n",
              "        dataTable['output_type'] = 'display_data';\n",
              "        await google.colab.output.renderOutput(dataTable, element);\n",
              "        const docLink = document.createElement('div');\n",
              "        docLink.innerHTML = docLinkHtml;\n",
              "        element.appendChild(docLink);\n",
              "      }\n",
              "    </script>\n",
              "  </div>\n",
              "\n",
              "\n",
              "    <div id=\"df-b3e64e0d-2d72-4dbb-9536-f4687f323bd2\">\n",
              "      <button class=\"colab-df-quickchart\" onclick=\"quickchart('df-b3e64e0d-2d72-4dbb-9536-f4687f323bd2')\"\n",
              "                title=\"Suggest charts\"\n",
              "                style=\"display:none;\">\n",
              "\n",
              "<svg xmlns=\"http://www.w3.org/2000/svg\" height=\"24px\"viewBox=\"0 0 24 24\"\n",
              "     width=\"24px\">\n",
              "    <g>\n",
              "        <path d=\"M19 3H5c-1.1 0-2 .9-2 2v14c0 1.1.9 2 2 2h14c1.1 0 2-.9 2-2V5c0-1.1-.9-2-2-2zM9 17H7v-7h2v7zm4 0h-2V7h2v10zm4 0h-2v-4h2v4z\"/>\n",
              "    </g>\n",
              "</svg>\n",
              "      </button>\n",
              "\n",
              "<style>\n",
              "  .colab-df-quickchart {\n",
              "      --bg-color: #E8F0FE;\n",
              "      --fill-color: #1967D2;\n",
              "      --hover-bg-color: #E2EBFA;\n",
              "      --hover-fill-color: #174EA6;\n",
              "      --disabled-fill-color: #AAA;\n",
              "      --disabled-bg-color: #DDD;\n",
              "  }\n",
              "\n",
              "  [theme=dark] .colab-df-quickchart {\n",
              "      --bg-color: #3B4455;\n",
              "      --fill-color: #D2E3FC;\n",
              "      --hover-bg-color: #434B5C;\n",
              "      --hover-fill-color: #FFFFFF;\n",
              "      --disabled-bg-color: #3B4455;\n",
              "      --disabled-fill-color: #666;\n",
              "  }\n",
              "\n",
              "  .colab-df-quickchart {\n",
              "    background-color: var(--bg-color);\n",
              "    border: none;\n",
              "    border-radius: 50%;\n",
              "    cursor: pointer;\n",
              "    display: none;\n",
              "    fill: var(--fill-color);\n",
              "    height: 32px;\n",
              "    padding: 0;\n",
              "    width: 32px;\n",
              "  }\n",
              "\n",
              "  .colab-df-quickchart:hover {\n",
              "    background-color: var(--hover-bg-color);\n",
              "    box-shadow: 0 1px 2px rgba(60, 64, 67, 0.3), 0 1px 3px 1px rgba(60, 64, 67, 0.15);\n",
              "    fill: var(--button-hover-fill-color);\n",
              "  }\n",
              "\n",
              "  .colab-df-quickchart-complete:disabled,\n",
              "  .colab-df-quickchart-complete:disabled:hover {\n",
              "    background-color: var(--disabled-bg-color);\n",
              "    fill: var(--disabled-fill-color);\n",
              "    box-shadow: none;\n",
              "  }\n",
              "\n",
              "  .colab-df-spinner {\n",
              "    border: 2px solid var(--fill-color);\n",
              "    border-color: transparent;\n",
              "    border-bottom-color: var(--fill-color);\n",
              "    animation:\n",
              "      spin 1s steps(1) infinite;\n",
              "  }\n",
              "\n",
              "  @keyframes spin {\n",
              "    0% {\n",
              "      border-color: transparent;\n",
              "      border-bottom-color: var(--fill-color);\n",
              "      border-left-color: var(--fill-color);\n",
              "    }\n",
              "    20% {\n",
              "      border-color: transparent;\n",
              "      border-left-color: var(--fill-color);\n",
              "      border-top-color: var(--fill-color);\n",
              "    }\n",
              "    30% {\n",
              "      border-color: transparent;\n",
              "      border-left-color: var(--fill-color);\n",
              "      border-top-color: var(--fill-color);\n",
              "      border-right-color: var(--fill-color);\n",
              "    }\n",
              "    40% {\n",
              "      border-color: transparent;\n",
              "      border-right-color: var(--fill-color);\n",
              "      border-top-color: var(--fill-color);\n",
              "    }\n",
              "    60% {\n",
              "      border-color: transparent;\n",
              "      border-right-color: var(--fill-color);\n",
              "    }\n",
              "    80% {\n",
              "      border-color: transparent;\n",
              "      border-right-color: var(--fill-color);\n",
              "      border-bottom-color: var(--fill-color);\n",
              "    }\n",
              "    90% {\n",
              "      border-color: transparent;\n",
              "      border-bottom-color: var(--fill-color);\n",
              "    }\n",
              "  }\n",
              "</style>\n",
              "\n",
              "      <script>\n",
              "        async function quickchart(key) {\n",
              "          const quickchartButtonEl =\n",
              "            document.querySelector('#' + key + ' button');\n",
              "          quickchartButtonEl.disabled = true;  // To prevent multiple clicks.\n",
              "          quickchartButtonEl.classList.add('colab-df-spinner');\n",
              "          try {\n",
              "            const charts = await google.colab.kernel.invokeFunction(\n",
              "                'suggestCharts', [key], {});\n",
              "          } catch (error) {\n",
              "            console.error('Error during call to suggestCharts:', error);\n",
              "          }\n",
              "          quickchartButtonEl.classList.remove('colab-df-spinner');\n",
              "          quickchartButtonEl.classList.add('colab-df-quickchart-complete');\n",
              "        }\n",
              "        (() => {\n",
              "          let quickchartButtonEl =\n",
              "            document.querySelector('#df-b3e64e0d-2d72-4dbb-9536-f4687f323bd2 button');\n",
              "          quickchartButtonEl.style.display =\n",
              "            google.colab.kernel.accessAllowed ? 'block' : 'none';\n",
              "        })();\n",
              "      </script>\n",
              "    </div>\n",
              "\n",
              "    </div>\n",
              "  </div>\n"
            ],
            "application/vnd.google.colaboratory.intrinsic+json": {
              "type": "dataframe",
              "variable_name": "tienda1",
              "summary": "{\n  \"name\": \"tienda1\",\n  \"rows\": 2359,\n  \"fields\": [\n    {\n      \"column\": \"Producto\",\n      \"properties\": {\n        \"dtype\": \"category\",\n        \"num_unique_values\": 51,\n        \"samples\": [\n          \"Guitarra ac\\u00fastica\",\n          \"Bal\\u00f3n de baloncesto\",\n          \"Smartwatch\"\n        ],\n        \"semantic_type\": \"\",\n        \"description\": \"\"\n      }\n    },\n    {\n      \"column\": \"Categor\\u00eda del Producto\",\n      \"properties\": {\n        \"dtype\": \"category\",\n        \"num_unique_values\": 8,\n        \"samples\": [\n          \"Muebles\",\n          \"Deportes y diversi\\u00f3n\",\n          \"Electr\\u00f3nicos\"\n        ],\n        \"semantic_type\": \"\",\n        \"description\": \"\"\n      }\n    },\n    {\n      \"column\": \"Precio\",\n      \"properties\": {\n        \"dtype\": \"number\",\n        \"std\": 614686.7653873172,\n        \"min\": 7600.0,\n        \"max\": 2977000.0,\n        \"num_unique_values\": 1937,\n        \"samples\": [\n          2499400.0,\n          14800.0,\n          80500.0\n        ],\n        \"semantic_type\": \"\",\n        \"description\": \"\"\n      }\n    },\n    {\n      \"column\": \"Costo de env\\u00edo\",\n      \"properties\": {\n        \"dtype\": \"number\",\n        \"std\": 32860.0017825605,\n        \"min\": 0.0,\n        \"max\": 160800.0,\n        \"num_unique_values\": 753,\n        \"samples\": [\n          117800.0,\n          54700.0,\n          45600.0\n        ],\n        \"semantic_type\": \"\",\n        \"description\": \"\"\n      }\n    },\n    {\n      \"column\": \"Fecha de Compra\",\n      \"properties\": {\n        \"dtype\": \"object\",\n        \"num_unique_values\": 1018,\n        \"samples\": [\n          \"15/09/2022\",\n          \"03/06/2020\",\n          \"06/11/2021\"\n        ],\n        \"semantic_type\": \"\",\n        \"description\": \"\"\n      }\n    },\n    {\n      \"column\": \"Vendedor\",\n      \"properties\": {\n        \"dtype\": \"category\",\n        \"num_unique_values\": 14,\n        \"samples\": [\n          \"Juliana Costa\",\n          \"Mariana Herrera\",\n          \"Pedro Gomez\"\n        ],\n        \"semantic_type\": \"\",\n        \"description\": \"\"\n      }\n    },\n    {\n      \"column\": \"Lugar de Compra\",\n      \"properties\": {\n        \"dtype\": \"category\",\n        \"num_unique_values\": 19,\n        \"samples\": [\n          \"Bogot\\u00e1\",\n          \"Pereira\",\n          \"Neiva\"\n        ],\n        \"semantic_type\": \"\",\n        \"description\": \"\"\n      }\n    },\n    {\n      \"column\": \"Calificaci\\u00f3n\",\n      \"properties\": {\n        \"dtype\": \"number\",\n        \"std\": 1,\n        \"min\": 1,\n        \"max\": 5,\n        \"num_unique_values\": 5,\n        \"samples\": [\n          1,\n          2,\n          5\n        ],\n        \"semantic_type\": \"\",\n        \"description\": \"\"\n      }\n    },\n    {\n      \"column\": \"M\\u00e9todo de pago\",\n      \"properties\": {\n        \"dtype\": \"category\",\n        \"num_unique_values\": 4,\n        \"samples\": [\n          \"Nequi\",\n          \"Tarjeta de d\\u00e9bito\",\n          \"Tarjeta de cr\\u00e9dito\"\n        ],\n        \"semantic_type\": \"\",\n        \"description\": \"\"\n      }\n    },\n    {\n      \"column\": \"Cantidad de cuotas\",\n      \"properties\": {\n        \"dtype\": \"number\",\n        \"std\": 2,\n        \"min\": 1,\n        \"max\": 24,\n        \"num_unique_values\": 15,\n        \"samples\": [\n          7,\n          14,\n          8\n        ],\n        \"semantic_type\": \"\",\n        \"description\": \"\"\n      }\n    },\n    {\n      \"column\": \"lat\",\n      \"properties\": {\n        \"dtype\": \"number\",\n        \"std\": 2.2874452492678627,\n        \"min\": -4.21528,\n        \"max\": 11.54444,\n        \"num_unique_values\": 19,\n        \"samples\": [\n          4.60971,\n          4.81333,\n          2.9273\n        ],\n        \"semantic_type\": \"\",\n        \"description\": \"\"\n      }\n    },\n    {\n      \"column\": \"lon\",\n      \"properties\": {\n        \"dtype\": \"number\",\n        \"std\": 1.2178272727088486,\n        \"min\": -77.28111,\n        \"max\": -67.9239,\n        \"num_unique_values\": 19,\n        \"samples\": [\n          -74.08175,\n          -75.69611,\n          -75.28189\n        ],\n        \"semantic_type\": \"\",\n        \"description\": \"\"\n      }\n    }\n  ]\n}"
            }
          },
          "metadata": {},
          "execution_count": 35
        }
      ],
      "source": [
        "import pandas as pd\n",
        "import matplotlib.pyplot as plt\n",
        "\n",
        "url = \"https://raw.githubusercontent.com/alura-es-cursos/challenge1-data-science-latam/refs/heads/main/base-de-datos-challenge1-latam/tienda_1%20.csv\"\n",
        "url2 = \"https://raw.githubusercontent.com/alura-es-cursos/challenge1-data-science-latam/refs/heads/main/base-de-datos-challenge1-latam/tienda_2.csv\"\n",
        "url3 = \"https://raw.githubusercontent.com/alura-es-cursos/challenge1-data-science-latam/refs/heads/main/base-de-datos-challenge1-latam/tienda_3.csv\"\n",
        "url4 = \"https://raw.githubusercontent.com/alura-es-cursos/challenge1-data-science-latam/refs/heads/main/base-de-datos-challenge1-latam/tienda_4.csv\"\n",
        "\n",
        "tienda1 = pd.read_csv(url)\n",
        "tienda2 = pd.read_csv(url2)\n",
        "tienda3 = pd.read_csv(url3)\n",
        "tienda4 = pd.read_csv(url4)\n",
        "\n",
        "tienda1.head()\n",
        "\n"
      ]
    },
    {
      "cell_type": "markdown",
      "source": [
        "Los datos corresponden a ventas de productos en distintas categorías como electrónicos, muebles, juguetes y electrodomésticos. Cada entrada incluye información sobre el producto, categoría, precio, costo de envío, fecha de compra, vendedor, lugar de compra, calificación del producto, método de pago y las coordenadas geográficas del lugar de compra. Las calificaciones varían entre 1 y 5, lo que indica la satisfacción del cliente con los productos adquiridos."
      ],
      "metadata": {
        "id": "6V2VHKzko3a5"
      }
    },
    {
      "cell_type": "markdown",
      "source": [
        "# Análisis de Desempeño de las Tiendas de Alura Store\n",
        "\n",
        "**Objetivo del Proyecto:**\n",
        "El objetivo de este análisis es ayudar al Sr. Juan a decidir cuál tienda de su cadena Alura Store debería vender para iniciar un nuevo emprendimiento. Para ello, se evaluarán datos clave de las 4 tiendas, como ingresos, categorías más vendidas, reseñas de clientes, productos más vendidos y el envío promedio.\n",
        "\n",
        "**Metodología:**\n",
        "- **Análisis de datos de ventas:** Se evaluarán los ingresos y las categorías de productos más populares en cada tienda, lo que nos permitirá identificar el rendimiento de cada una.\n",
        "- **Evaluación de reseñas de clientes:** Se analizarán las valoraciones de los clientes para entender la satisfacción general con cada tienda.\n",
        "- **Evaluacion de productos mas y menos vendidos por tienda:** Analizaremos que productos son los mas comprados y cuales no por cada una de las 4 tiendas.\n",
        "- **Evaluación del envío promedio:** Analizaremos el tiempo promedio de envío de los productos para verificar la eficiencia operativa de cada tienda.\n",
        "\n",
        "**Visualización de Datos:**\n",
        "Para facilitar la interpretación de los resultados, se crearán **tres gráficos distintos**, que podrían incluir:\n",
        "1. Gráficos de barras para comparar ingresos por tienda.\n",
        "2. Gráficos circulares para mostrar la distribución de los productos mas y menos vendidos.\n",
        "3. Gráficos de dispersión para analizar la relación entre los ingresos y la satisfacción de los clientes."
      ],
      "metadata": {
        "id": "HqKJQUWynBVS"
      }
    },
    {
      "cell_type": "markdown",
      "source": [
        "#1. Análisis de facturación\n",
        "\n"
      ],
      "metadata": {
        "id": "X62IW3KFUIYm"
      }
    },
    {
      "cell_type": "markdown",
      "source": [
        "Para iniciar el análisis y comparar la facturación entre las cuatro tiendas, es fundamental verificar si los rangos de fechas de venta son lo más similares posible. Esto nos permitirá asegurar que la comparación se base en periodos equivalentes y, por tanto, sea válida y representativa."
      ],
      "metadata": {
        "id": "S6hWUbYFjn1M"
      }
    },
    {
      "cell_type": "markdown",
      "source": [
        "### 1.1 Calculo del periodo de ventas por cada tienda:"
      ],
      "metadata": {
        "id": "ON2EOcLBBo7I"
      }
    },
    {
      "cell_type": "code",
      "source": [
        "# Asegurarse de que la columna 'Fecha de Compra' esté en formato de fecha con dayfirst=True\n",
        "for tienda in [tienda1, tienda2, tienda3, tienda4]:\n",
        "    tienda['Fecha de Compra'] = pd.to_datetime(tienda['Fecha de Compra'], dayfirst=True)\n",
        "\n",
        "# Función para obtener las fechas mínima y máxima de cada tienda\n",
        "def obtener_fechas(tienda):\n",
        "    return tienda['Fecha de Compra'].min(), tienda['Fecha de Compra'].max()\n",
        "\n",
        "# Lista de tiendas\n",
        "tiendas = [tienda1, tienda2, tienda3, tienda4]\n",
        "\n",
        "# Crear el diccionario\n",
        "fechas_tiendas = {\n",
        "    f'Tienda {i+1}': obtener_fechas(tienda)\n",
        "    for i, tienda in enumerate(tiendas)\n",
        "}\n",
        "\n",
        "# Función para convertir en años, meses (aproximados) y días\n",
        "def formatear_diferencia(fecha_inicio, fecha_fin):\n",
        "    diferencia = fecha_fin - fecha_inicio\n",
        "    dias = diferencia.days\n",
        "    años = dias // 365\n",
        "    dias_restantes = dias % 365\n",
        "    meses = dias_restantes // 30\n",
        "    dias_finales = dias_restantes % 30\n",
        "    return f\"{años} años, {meses} meses y {dias_finales} días\"\n",
        "\n",
        "# Mostrar los resultados\n",
        "for tienda, (inicio, fin) in fechas_tiendas.items():\n",
        "    tiempo_total = formatear_diferencia(inicio, fin)\n",
        "    print(f\"{tienda}:\")\n",
        "    print(f\"  - Fecha de inicio de ventas: {inicio.date()}\")\n",
        "    print(f\"  - Fecha de fin de ventas: {fin.date()}\")\n",
        "    print(f\"  - Tiempo total: {tiempo_total}\")\n",
        "    print(\"-----\")\n"
      ],
      "metadata": {
        "colab": {
          "base_uri": "https://localhost:8080/"
        },
        "id": "HqlFqk5yB1B6",
        "outputId": "217b5be9-0409-4751-a8b7-aafacf2fde28"
      },
      "execution_count": 2,
      "outputs": [
        {
          "output_type": "stream",
          "name": "stdout",
          "text": [
            "Tienda 1:\n",
            "  - Fecha de inicio de ventas: 2020-01-01\n",
            "  - Fecha de fin de ventas: 2023-03-31\n",
            "  - Tiempo total: 3 años, 3 meses y 0 días\n",
            "-----\n",
            "Tienda 2:\n",
            "  - Fecha de inicio de ventas: 2020-01-01\n",
            "  - Fecha de fin de ventas: 2023-03-31\n",
            "  - Tiempo total: 3 años, 3 meses y 0 días\n",
            "-----\n",
            "Tienda 3:\n",
            "  - Fecha de inicio de ventas: 2020-01-01\n",
            "  - Fecha de fin de ventas: 2023-03-31\n",
            "  - Tiempo total: 3 años, 3 meses y 0 días\n",
            "-----\n",
            "Tienda 4:\n",
            "  - Fecha de inicio de ventas: 2020-01-01\n",
            "  - Fecha de fin de ventas: 2023-03-30\n",
            "  - Tiempo total: 3 años, 2 meses y 29 días\n",
            "-----\n"
          ]
        }
      ]
    },
    {
      "cell_type": "markdown",
      "source": [
        "Las cuatro tiendas tienen periodos de venta prácticamente idénticos, con diferencias mínimas de solo un día en el caso de la Tienda 4. Por lo tanto, es válido avanzar con el análisis comparativo de facturación entre ellas."
      ],
      "metadata": {
        "id": "KSCWhltxjeQV"
      }
    },
    {
      "cell_type": "markdown",
      "source": [
        "### 1.2 Ingresos totales por cada tienda:"
      ],
      "metadata": {
        "id": "DbvdRdHb4oHY"
      }
    },
    {
      "cell_type": "markdown",
      "source": [
        "En esta sección se calcula el ingreso total por ventas de cada tienda, sumando los precios de todos sus productos. Luego, se convierte el ingreso de pesos colombianos (COP) a dólares estadounidenses (USD) usando una tasa de cambio de 1 USD = 4191 COP (vigente al 30-04-2025). Finalmente, se imprime el resultado para cada tienda en ambas monedas."
      ],
      "metadata": {
        "id": "hd2d_6BwxoAM"
      }
    },
    {
      "cell_type": "code",
      "source": [
        "#Ingresos por tienda, tomando solo en cuenta las ventas de todos sus productos.\n",
        "ingresos = {\n",
        "    'Tienda 1': tienda1['Precio'].sum(),\n",
        "    'Tienda 2': tienda2['Precio'].sum(),\n",
        "    'Tienda 3': tienda3['Precio'].sum(),\n",
        "    'Tienda 4': tienda4['Precio'].sum()\n",
        "}\n",
        "\n",
        "#tasa de cambio 1 USD a 4191 COP: 30-04-2025.\n",
        "tasa_cambio = 4191\n",
        "\n",
        "#COP : Peso colombiano.\n",
        "#USD : Dólar estadounidense.\n",
        "for tienda, ingreso in ingresos.items():\n",
        "  ingreso_usd = ingreso / tasa_cambio\n",
        "  print(f\"El ingreso total por ventas de la {tienda}: (COP ${ingreso:,.2f})  (USD ${ingreso_usd:,.2f})\")"
      ],
      "metadata": {
        "id": "xykobSftV64I",
        "colab": {
          "base_uri": "https://localhost:8080/"
        },
        "outputId": "df60e910-fc6e-4b86-af82-6bfa3e095491"
      },
      "execution_count": 3,
      "outputs": [
        {
          "output_type": "stream",
          "name": "stdout",
          "text": [
            "El ingreso total por ventas de la Tienda 1: (COP $1,150,880,400.00)  (USD $274,607.59)\n",
            "El ingreso total por ventas de la Tienda 2: (COP $1,116,343,500.00)  (USD $266,366.86)\n",
            "El ingreso total por ventas de la Tienda 3: (COP $1,098,019,600.00)  (USD $261,994.66)\n",
            "El ingreso total por ventas de la Tienda 4: (COP $1,038,375,700.00)  (USD $247,763.23)\n"
          ]
        }
      ]
    },
    {
      "cell_type": "markdown",
      "source": [
        "###1.2.1 Grafico de barras, ingreso totales por cada tienda:"
      ],
      "metadata": {
        "id": "LWmO58isy7XA"
      }
    },
    {
      "cell_type": "markdown",
      "source": [
        "Se genera un gráfico de barras que muestra los ingresos totales por tienda en pesos colombianos (COP). La etiqueta del eje Y incluye una nota aclaratoria para facilitar la interpretación de los valores abreviados en millones."
      ],
      "metadata": {
        "id": "bUllALJD1xXe"
      }
    },
    {
      "cell_type": "code",
      "source": [
        "# Datos\n",
        "tiendas = list(ingresos.keys())\n",
        "ingresos_cop = list(ingresos.values())\n",
        "\n",
        "# Gráfico de barras\n",
        "plt.bar(tiendas, ingresos_cop)\n",
        "plt.title('Ingresos por Tienda')\n",
        "plt.ylabel('Ingresos (COP)\\n(Ej: 1.2 = 1,200 millones)')\n",
        "plt.show()"
      ],
      "metadata": {
        "colab": {
          "base_uri": "https://localhost:8080/",
          "height": 452
        },
        "id": "0U4RpOq0zco_",
        "outputId": "f8dacf6c-57e1-4ae6-df45-e7d0635a0925"
      },
      "execution_count": 36,
      "outputs": [
        {
          "output_type": "display_data",
          "data": {
            "text/plain": [
              "<Figure size 640x480 with 1 Axes>"
            ],
            "image/png": "[encoded data removed]"
          },
          "metadata": {}
        }
      ]
    },
    {
      "cell_type": "markdown",
      "source": [
        "La Tienda 1 registra el mayor ingreso total por ventas seguida por las Tiendas 2, 3 y 4 en ese orden."
      ],
      "metadata": {
        "id": "S7p1Gf6ilbbe"
      }
    },
    {
      "cell_type": "markdown",
      "source": [
        "# 2. Ventas por categoría"
      ],
      "metadata": {
        "id": "2V_vcAPzWZmR"
      }
    },
    {
      "cell_type": "markdown",
      "source": [
        "En esta parte, analizamos cuál es la categoría de productos que más ingresos genera en cada tienda. Para lograrlo, agrupamos todos los productos vendidos según su categoría y sumamos los ingresos correspondientes. Luego, identificamos la categoría con mayores ventas en pesos colombianos (COP) y también mostramos su equivalente en dólares estadounidenses (USD), usando la tasa de cambio previamente definida.\n",
        "Esto nos permite entender qué tipo de productos tienen mejor rendimiento económico en cada tienda."
      ],
      "metadata": {
        "id": "_hr9QApN2pgT"
      }
    },
    {
      "cell_type": "code",
      "source": [
        "def mejor_categoria(tienda, nombre):                                     # Define la función y recibe los datos de una tienda\n",
        "    ingresos = tienda.groupby(\"Categoría del Producto\")[\"Precio\"].sum()  # Suma ingresos por categoría\n",
        "    mejor = ingresos.idxmax()                                            # Encuentra la categoría con más ingreso\n",
        "    cop = ingresos[mejor]                                                # Obtiene el valor en COP\n",
        "    usd = cop / tasa_cambio                                              # Convierte a USD\n",
        "    print(f\"\\nMejor categoría en {nombre}:\")                             # Imprime la tienda\n",
        "    print(f\"{mejor}: (COP ${cop:,.2f})  (USD ${usd:,.2f})\")              # Muestra categoría + valores\n",
        "\n",
        "# llamar la funciion para cada tienda\n",
        "mejor_categoria(tienda1, \"Tienda 1\")\n",
        "mejor_categoria(tienda2, \"Tienda 2\")\n",
        "mejor_categoria(tienda3, \"Tienda 3\")\n",
        "mejor_categoria(tienda4, \"Tienda 4\")"
      ],
      "metadata": {
        "id": "A34YupIuYhfF",
        "colab": {
          "base_uri": "https://localhost:8080/"
        },
        "outputId": "4e864d4f-b4df-4246-c1dc-648b81a58b58"
      },
      "execution_count": 13,
      "outputs": [
        {
          "output_type": "stream",
          "name": "stdout",
          "text": [
            "\n",
            "Mejor categoría en Tienda 1:\n",
            "Electrónicos: (COP $429,493,500.00)  (USD $102,479.96)\n",
            "\n",
            "Mejor categoría en Tienda 2:\n",
            "Electrónicos: (COP $410,831,100.00)  (USD $98,026.99)\n",
            "\n",
            "Mejor categoría en Tienda 3:\n",
            "Electrónicos: (COP $410,775,800.00)  (USD $98,013.79)\n",
            "\n",
            "Mejor categoría en Tienda 4:\n",
            "Electrónicos: (COP $409,476,100.00)  (USD $97,703.67)\n"
          ]
        }
      ]
    },
    {
      "cell_type": "markdown",
      "source": [
        "En conclusión se observa que la categoria mas vendida en todas las tiendas fue Electrónicos."
      ],
      "metadata": {
        "id": "HNcntA2d7K5n"
      }
    },
    {
      "cell_type": "markdown",
      "source": [
        "# 3. Calificación promedio de la tienda\n"
      ],
      "metadata": {
        "id": "Rq6tU_xSY3jk"
      }
    },
    {
      "cell_type": "markdown",
      "source": [
        "Para calcular la calificación promedio de cada tienda, extraemos las calificaciones de todos los productos de cada tienda y calculamos su promedio. Este valor refleja la satisfacción general de los clientes con los productos de cada tienda."
      ],
      "metadata": {
        "id": "-3R5qytG9lCX"
      }
    },
    {
      "cell_type": "code",
      "source": [
        "# Calcular la calificación promedio de cada tienda\n",
        "calificacion_promedio = {\n",
        "    'Tienda 1': tienda1['Calificación'].mean(), # se utiliza .mean(), para calcular el promedio\n",
        "    'Tienda 2': tienda2['Calificación'].mean(),\n",
        "    'Tienda 3': tienda3['Calificación'].mean(),\n",
        "    'Tienda 4': tienda4['Calificación'].mean()\n",
        "}\n",
        "\n",
        "# Mostrar los resultados\n",
        "for tienda, promedio in calificacion_promedio.items():\n",
        "    print(f\"Calificación promedio de {tienda}: {promedio:.2f}\")"
      ],
      "metadata": {
        "id": "bh3jjjJwY5MU",
        "colab": {
          "base_uri": "https://localhost:8080/"
        },
        "outputId": "96353c48-3ba2-4cef-8173-26e2ed4fc18a"
      },
      "execution_count": 15,
      "outputs": [
        {
          "output_type": "stream",
          "name": "stdout",
          "text": [
            "Calificación promedio de Tienda 1: 3.98\n",
            "Calificación promedio de Tienda 2: 4.04\n",
            "Calificación promedio de Tienda 3: 4.05\n",
            "Calificación promedio de Tienda 4: 4.00\n"
          ]
        }
      ]
    },
    {
      "cell_type": "markdown",
      "source": [
        "###3.1 Gráfico de barras: Calificación promedio por tienda\n"
      ],
      "metadata": {
        "id": "lmTDpxwv-h-P"
      }
    },
    {
      "cell_type": "code",
      "source": [
        "# Crear gráfico de barras\n",
        "tiendas = list(calificacion_promedio.keys())\n",
        "calificaciones = list(calificacion_promedio.values())\n",
        "\n",
        "# Crear lista de colores donde la barra con la calificación más alta será de un color diferente\n",
        "colores = ['lightgreen' if cal != max(calificaciones) else 'orange' for cal in calificaciones]\n",
        "\n",
        "# Graficar barras\n",
        "plt.bar(tiendas, calificaciones, color=colores)\n",
        "plt.title('Calificación Promedio por Tienda')\n",
        "plt.ylabel('Calificación Promedio')\n",
        "plt.ylim(0, 5)  # Rango de calificación (suponiendo que es de 0 a 5)\n",
        "plt.show()"
      ],
      "metadata": {
        "colab": {
          "base_uri": "https://localhost:8080/",
          "height": 453
        },
        "id": "Qg9B94GJ-3Q4",
        "outputId": "47329edf-4f61-4768-da18-39cc3e2ffeba"
      },
      "execution_count": 17,
      "outputs": [
        {
          "output_type": "display_data",
          "data": {
            "text/plain": [
              "<Figure size 640x480 with 1 Axes>"
            ],
            "image/png": "[encoded data removed]"
          },
          "metadata": {}
        }
      ]
    },
    {
      "cell_type": "markdown",
      "source": [
        "Podemos observar y concluir que la Tienda 3 es la que posee mayor promedio de calificación."
      ],
      "metadata": {
        "id": "EdCTpAEM_lN4"
      }
    },
    {
      "cell_type": "markdown",
      "source": [
        "# 4. Productos más y menos vendidos"
      ],
      "metadata": {
        "id": "DmNp1KPBZCm-"
      }
    },
    {
      "cell_type": "markdown",
      "source": [
        "Se identificaron los productos con mayor y menor número de ventas en cada tienda, analizando la frecuencia de aparición de cada producto en los datos."
      ],
      "metadata": {
        "id": "bnn4J0tW-dZ7"
      }
    },
    {
      "cell_type": "code",
      "source": [
        "# Función para obtener el producto más y menos vendido por tienda\n",
        "def producto_mas_menos_vendido(tienda, nombre):\n",
        "    conteo = tienda['Producto'].value_counts()\n",
        "    mas_vendido = conteo.idxmax()\n",
        "    menos_vendido = conteo.idxmin()\n",
        "    print(f\"\\n{name}:\")\n",
        "    print(f\"Producto más vendido: {mas_vendido} ({conteo.max()} ventas)\")\n",
        "    print(f\"Producto menos vendido: {menos_vendido} ({conteo.min()} venta)\")\n",
        "    return nombre, mas_vendido, conteo.max(), menos_vendido, conteo.min()\n",
        "\n",
        "# Obtener resultados por tienda\n",
        "resultados = []\n",
        "for tienda, name in zip([tienda1, tienda2, tienda3, tienda4], [\"Tienda 1\", \"Tienda 2\", \"Tienda 3\", \"Tienda 4\"]):\n",
        "    resultados.append(producto_mas_menos_vendido(tienda, name))"
      ],
      "metadata": {
        "id": "qoyjqijQZHfF",
        "colab": {
          "base_uri": "https://localhost:8080/"
        },
        "outputId": "2544c343-01df-4cc0-847c-8a464b9640b1"
      },
      "execution_count": 18,
      "outputs": [
        {
          "output_type": "stream",
          "name": "stdout",
          "text": [
            "\n",
            "Tienda 1:\n",
            "Producto más vendido: Microondas (60 ventas)\n",
            "Producto menos vendido: Auriculares con micrófono (33 venta)\n",
            "\n",
            "Tienda 2:\n",
            "Producto más vendido: Iniciando en programación (65 ventas)\n",
            "Producto menos vendido: Juego de mesa (32 venta)\n",
            "\n",
            "Tienda 3:\n",
            "Producto más vendido: Kit de bancas (57 ventas)\n",
            "Producto menos vendido: Bloques de construcción (35 venta)\n",
            "\n",
            "Tienda 4:\n",
            "Producto más vendido: Cama box (62 ventas)\n",
            "Producto menos vendido: Guitarra eléctrica (33 venta)\n"
          ]
        }
      ]
    },
    {
      "cell_type": "markdown",
      "source": [
        "Se observa que la Tienda 2 posee la mayor venta por producto, así como también el producto menos vendido."
      ],
      "metadata": {
        "id": "b4OqTTDTEFht"
      }
    },
    {
      "cell_type": "markdown",
      "source": [
        "# 5. Envío promedio por tienda"
      ],
      "metadata": {
        "id": "Fl0cGi3bZKqU"
      }
    },
    {
      "cell_type": "markdown",
      "source": [
        "En esta sección se calcula el costo promedio de envío de los productos vendidos en cada tienda. Este valor se obtiene tomando el promedio del Costo de envío para cada tienda, y se convierte a dólares estadounidenses (USD) utilizando la tasa de cambio actual. El objetivo es conocer cuánto está pagando, en promedio, cada tienda por el servicio de envío de sus productos."
      ],
      "metadata": {
        "id": "K5oIDOv_IX_6"
      }
    },
    {
      "cell_type": "code",
      "source": [
        "# Calcular el costo promedio de envío por tienda\n",
        "envio_promedio = {\n",
        "    'Tienda 1': tienda1['Costo de envío'].mean(),\n",
        "    'Tienda 2': tienda2['Costo de envío'].mean(),\n",
        "    'Tienda 3': tienda3['Costo de envío'].mean(),\n",
        "    'Tienda 4': tienda4['Costo de envío'].mean()\n",
        "}\n",
        "\n",
        "# Mostrar resultados\n",
        "for tienda, promedio in envio_promedio.items():\n",
        "  usd = promedio / tasa_cambio  # Convertir a USD\n",
        "  print(f\"Costo promedio de envío en {tienda}: COP ${promedio:,.2f}   (USD ${usd:,.2f})\")"
      ],
      "metadata": {
        "id": "S2JeaCykZNy9",
        "colab": {
          "base_uri": "https://localhost:8080/"
        },
        "outputId": "fc9116a7-b5bb-4291-ab9b-3dcd4f3a9c54"
      },
      "execution_count": 29,
      "outputs": [
        {
          "output_type": "stream",
          "name": "stdout",
          "text": [
            "Costo promedio de envío en Tienda 1: COP $26,018.61   (USD $6.21)\n",
            "Costo promedio de envío en Tienda 2: COP $25,216.24   (USD $6.02)\n",
            "Costo promedio de envío en Tienda 3: COP $24,805.68   (USD $5.92)\n",
            "Costo promedio de envío en Tienda 4: COP $23,459.46   (USD $5.60)\n"
          ]
        }
      ]
    },
    {
      "cell_type": "markdown",
      "source": [
        "###5.1 Gráfico de torta para observar cuál tienda tiene mayor costo promedio de envío:"
      ],
      "metadata": {
        "id": "TNlGo90HHjwa"
      }
    },
    {
      "cell_type": "code",
      "source": [
        "# Datos para gráfico de torta\n",
        "tiendas = list(envio_promedio.keys())\n",
        "costos_envio = list(envio_promedio.values())\n",
        "\n",
        "# Crear gráfico de torta\n",
        "plt.pie(costos_envio, labels=tiendas, autopct='%1.1f%%', colors=['lightblue', 'lightgreen', 'lightcoral', 'lightskyblue'])\n",
        "plt.title('Distribución del Costo Promedio de Envío por Tienda')\n",
        "plt.show()"
      ],
      "metadata": {
        "id": "0tSdCie9ZQlt",
        "colab": {
          "base_uri": "https://localhost:8080/",
          "height": 429
        },
        "outputId": "534e0731-3be4-4edc-9b10-87aacd6bba99"
      },
      "execution_count": 30,
      "outputs": [
        {
          "output_type": "display_data",
          "data": {
            "text/plain": [
              "<Figure size 640x480 with 1 Axes>"
            ],
            "image/png": "[encoded data removed]"
          },
          "metadata": {}
        }
      ]
    },
    {
      "cell_type": "markdown",
      "source": [
        "Levemente la tienda numero 1 tiene el mayor costo promedio de envio."
      ],
      "metadata": {
        "id": "tQU__rvjI4vR"
      }
    },
    {
      "cell_type": "markdown",
      "source": [
        "#6 Gráficos de dispersión para analizar la relación entre los ingresos y la satisfacción de los clientes.\n"
      ],
      "metadata": {
        "id": "BegZyukVJnX0"
      }
    },
    {
      "cell_type": "markdown",
      "source": [
        "Este gráfico de dispersión muestra cómo se relacionan los ingresos de cada tienda (en COP) con la calificación promedio de sus productos. Cada tienda tiene un color y etiqueta única, lo que permite identificar fácilmente su posición en el gráfico. Este análisis ayuda a observar si existe una relación entre los ingresos y la satisfacción de los clientes.\n",
        "\n",
        "\n",
        "\n",
        "\n"
      ],
      "metadata": {
        "id": "q0ncHKEpLNUr"
      }
    },
    {
      "cell_type": "code",
      "source": [
        "# Datos de ingresos y calificación promedio\n",
        "tiendas = list(ingresos.keys())  # Tiendas\n",
        "ingresos_cop = list(ingresos.values())  # Ingresos en COP\n",
        "calificaciones = list(calificacion_promedio.values())  # Calificación promedio\n",
        "\n",
        "# Colores distintos para cada tienda\n",
        "colores = ['blue', 'green', 'red', 'purple']\n",
        "\n",
        "# Crear gráfico de dispersión\n",
        "plt.figure(figsize=(8, 6))  # Ajustar tamaño de la figura\n",
        "for i in range(len(tiendas)):\n",
        "    plt.scatter(ingresos_cop[i], calificaciones[i], color=colores[i], s=100, label=tiendas[i])\n",
        "\n",
        "# Añadir etiquetas\n",
        "plt.title('Relación entre Ingresos y Calificación Promedio')\n",
        "plt.xlabel('Ingresos (COP)\\n(Ej: 1.10 = 1,100 millones)')\n",
        "plt.ylabel('Calificación Promedio')\n",
        "plt.grid(True)\n",
        "\n",
        "# Agregar leyenda para identificar las tiendas\n",
        "plt.legend()\n",
        "\n",
        "# Mostrar el gráfico\n",
        "plt.show()"
      ],
      "metadata": {
        "colab": {
          "base_uri": "https://localhost:8080/",
          "height": 581
        },
        "id": "h59f7-2wJtAL",
        "outputId": "c82178c7-5280-4271-aaeb-d708a84fe519"
      },
      "execution_count": 34,
      "outputs": [
        {
          "output_type": "display_data",
          "data": {
            "text/plain": [
              "<Figure size 800x600 with 1 Axes>"
            ],
            "image/png": "[encoded data removed]"
          },
          "metadata": {}
        }
      ]
    },
    {
      "cell_type": "markdown",
      "source": [
        "En este gráfico de dispersión no se observa una relación clara entre los ingresos de las tiendas y su calificación promedio. A pesar de las diferencias en los ingresos y calificaciones, no parece haber una correlación evidente entre ambos factores, lo que sugiere que el desempeño financiero de las tiendas no está necesariamente ligado a la satisfacción de los clientes."
      ],
      "metadata": {
        "id": "4CMNEf7qLPM2"
      }
    },
    {
      "cell_type": "markdown",
      "source": [
        "#7 Conclusion para vender 1 de las tiendas"
      ],
      "metadata": {
        "id": "sToolnHeOn6Y"
      }
    },
    {
      "cell_type": "markdown",
      "source": [
        "### 📌 Conclusión Final\n",
        "\n",
        "A partir del análisis de los datos obtenidos, se pueden destacar los siguientes puntos clave por tienda:\n",
        "\n",
        "#### 💰 **Ingresos totales por tienda (de mayor a menor):**\n",
        "\n",
        "- **Tienda 1**:  \n",
        "  - COP $1,150,880,400.00  \n",
        "  - USD $274,607.59  \n",
        "\n",
        "- **Tienda 2**:  \n",
        "  - COP $1,116,343,500.00  \n",
        "  - USD $266,366.86  \n",
        "\n",
        "- **Tienda 3**:  \n",
        "  - COP $1,098,019,600.00  \n",
        "  - USD $261,994.66  \n",
        "\n",
        "- **Tienda 4**:  \n",
        "  - COP $1,038,375,700.00  \n",
        "  - USD $247,763.23  \n",
        "\n",
        "#### 🛍️ **Categoría más vendida por tienda (Electrónicos en todos los casos):**\n",
        "\n",
        "- **Tienda 1**: COP $429,493,500.00 / USD $102,479.96  \n",
        "- **Tienda 2**: COP $410,831,100.00 / USD $98,026.99  \n",
        "- **Tienda 3**: COP $410,775,800.00 / USD $98,013.79  \n",
        "- **Tienda 4**: COP $409,476,100.00 / USD $97,703.67  \n",
        "\n",
        "#### ⭐ **Calificación promedio por tienda:**\n",
        "\n",
        "- **Tienda 3**: 4.05  \n",
        "- **Tienda 2**: 4.04  \n",
        "- **Tienda 4**: 4.00  \n",
        "- **Tienda 1**: 3.98  \n",
        "\n",
        "#### 🚚 **Costo promedio de envío por tienda:**\n",
        "\n",
        "- **Tienda 1**: COP $26,018.61 / USD $6.21  \n",
        "- **Tienda 2**: COP $25,216.24 / USD $6.02  \n",
        "- **Tienda 3**: COP $24,805.68 / USD $5.92  \n",
        "- **Tienda 4**: COP $23,459.46 / USD $5.60  \n",
        "\n",
        "---\n",
        "\n",
        "### 📝 Recomendación\n",
        "\n",
        "A pesar de que **la Tienda 1** lidera en ingresos y ventas en la categoría de electrónicos, su **calificación promedio es la más baja**, lo que indica posibles problemas en la experiencia del cliente.\n",
        "\n",
        "**La Tienda 3**, aunque no es la de mayores ingresos, tiene **la mejor calificación promedio** y un buen equilibrio en costos de envío y ventas, lo que la hace una excelente opción para consolidar y seguir invirtiendo.\n",
        "\n",
        "Por otro lado, **la Tienda 4 muestra el peor desempeño en ingresos** y una calificación promedio moderada. Aunque tiene el costo de envío más bajo, no compensa en términos de rentabilidad global.\n",
        "\n",
        "> ✅ **Conclusión: se recomienda vender la Tienda 4 y enfocar esfuerzos en mejorar la experiencia del cliente en la Tienda 1, mientras se fortalece la Tienda 3.**\n",
        "\n",
        "\n",
        "\n",
        "\n",
        "\n"
      ],
      "metadata": {
        "id": "T6eF3s57OxkO"
      }
    }
  ]
}